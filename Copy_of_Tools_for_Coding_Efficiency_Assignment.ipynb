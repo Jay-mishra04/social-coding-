{
  "nbformat": 4,
  "nbformat_minor": 0,
  "metadata": {
    "colab": {
      "provenance": [],
      "include_colab_link": true
    },
    "kernelspec": {
      "name": "python3",
      "display_name": "Python 3"
    },
    "language_info": {
      "name": "python"
    }
  },
  "cells": [
    {
      "cell_type": "markdown",
      "metadata": {
        "id": "view-in-github",
        "colab_type": "text"
      },
      "source": [
        "<a href=\"https://colab.research.google.com/github/Jay-mishra04/social-coding-/blob/my_branch_1/Copy_of_Tools_for_Coding_Efficiency_Assignment.ipynb\" target=\"_parent\"><img src=\"https://colab.research.google.com/assets/colab-badge.svg\" alt=\"Open In Colab\"/></a>"
      ]
    },
    {
      "cell_type": "markdown",
      "source": [
        "## 🎉 Woohoo! It's time for another assignment!\n",
        "\n",
        "Are you ready to put your code optimization skills to test? 💪📊🐍\n",
        "\n",
        "Get ready to dive deep into Python's code optimization techniques. You'll be a pro at dealing with code optimization techniques in no time! 🤓👨‍💻🔍\n",
        "\n",
        "So buckle up and let's get started! Good luck! 🍀🚀"
      ],
      "metadata": {
        "id": "9ui_0N_-X--y"
      }
    },
    {
      "cell_type": "markdown",
      "source": [
        "this text is added on purpose to find out the changes in the github"
      ],
      "metadata": {
        "id": "KmEBgxI3pj_N"
      }
    },
    {
      "cell_type": "markdown",
      "source": [
        "## **Activity 1:**"
      ],
      "metadata": {
        "id": "JhWq7Izc1IF8"
      }
    },
    {
      "cell_type": "markdown",
      "source": [
        "### **Task: Find Pair**\n",
        "\n",
        "You are given a list of integers. Write a function that finds the first pair of integers in the list that add up to a given target sum. The function should return a tuple containing the indices of the pair in the list.\n",
        "\n",
        "**Example:**\n",
        "\n",
        "**Input:**\n",
        "```\n",
        "nums = [4, 3, 6, 8, 2, 9, 1, 7]\n",
        "target = 10\n",
        "```\n",
        "\n",
        "**Output:**\n",
        "```\n",
        "(0, 2)\n",
        "```\n",
        "**Brute Force Solution:**\n",
        "\n",
        "One possible solution is to generate all possible pairs of the input list and check if their sum equals the target. We can then return the indices of the first pair that satisfies the condition.\n",
        "\n",
        "```\n",
        "def find_pair(nums, target):\n",
        "    n = len(nums)\n",
        "    for i in range(n):\n",
        "        for j in range(i+1, n):\n",
        "            if nums[i] + nums[j] == target:\n",
        "                return (i, j)\n",
        "    return None\n",
        "The time complexity of this solution is O(n^2), where n is the length of the input list. The space complexity is O(1).\n",
        "```\n",
        "**Your Task is to optimize the solution and here are some steps to do it:**\n",
        "\n",
        "**Optimized Solution Approach:**\n",
        "\n",
        "1. Initialize a dictionary to store the elements of the input list as keys and their indices as values.\n",
        "2. Iterate over the input list and for each element, check if the difference between the target and the element is present in the dictionary.\n",
        "3. If it is, return the tuple containing the indices of the current element and the complement element. If it is not, add the current element and its index to the dictionary.\n",
        "4. If no pair is found, return None.\n"
      ],
      "metadata": {
        "id": "neJL9kD2KeDk"
      }
    },
    {
      "cell_type": "code",
      "source": [
        "# Write your code here\n",
        "def find_pair(nums,target):\n",
        "  num_dic={}\n",
        "  for index,num in enumerate(nums):\n",
        "    complement= target - num\n",
        "    if complement in num_dic:\n",
        "      return (num_dic[complement],index)\n",
        "    num_dic[num]=index\n",
        "  return None\n",
        "nums = [4, 3, 6, 8, 2, 9, 1, 7]\n",
        "target = 10\n",
        "pair= find_pair(nums,target)\n",
        "print(pair)\n"
      ],
      "metadata": {
        "id": "YiCtZamvYT0v",
        "colab": {
          "base_uri": "https://localhost:8080/"
        },
        "outputId": "47e23bd0-92a3-4f8b-a8b8-496a4ce96599"
      },
      "execution_count": null,
      "outputs": [
        {
          "output_type": "stream",
          "name": "stdout",
          "text": [
            "(0, 2)\n"
          ]
        }
      ]
    },
    {
      "cell_type": "markdown",
      "source": [
        "## **Activity 2:**"
      ],
      "metadata": {
        "id": "7WBKNvun1LK7"
      }
    },
    {
      "cell_type": "markdown",
      "source": [
        "### **Task: Find Min Max**\n",
        "\n",
        "You are given a list of integers. Write a function that finds the minimum and maximum element in the list. The function should return a tuple of two integers in the format (minimum, maximum).\n",
        "\n",
        "**Example:**\n",
        "\n",
        "**Input:**\n",
        "```\n",
        "nums = [12, 3, 1, 2, -6, 5, -8, 6]\n",
        "```\n",
        "\n",
        "**Output:**\n",
        "```\n",
        "(-8, 12)\n",
        "```\n",
        "\n",
        "**Solution:**\n",
        "\n",
        "One possible solution is to iterate over the list and keep track of the minimum and maximum element seen so far.\n",
        "\n",
        "```\n",
        "def find_min_max(nums):\n",
        "    n = len(nums)\n",
        "    if n == 0:\n",
        "        return None\n",
        "    min_num = nums[0]\n",
        "    max_num = nums[0]\n",
        "    for i in range(1, n):\n",
        "        if nums[i] < min_num:\n",
        "            min_num = nums[i]\n",
        "        if nums[i] > max_num:\n",
        "            max_num = nums[i]\n",
        "    return (min_num, max_num)\n",
        "\n",
        "```\n",
        "\n",
        "The time complexity of this solution is O(n), where n is the length of the input list. The space complexity is O(1).\n",
        "\n",
        "**Your Task is to optimize the solution and here are some steps to do it:**\n",
        "\n",
        "**Optimized Solution Approach:**\n",
        "\n",
        "1. Divide the list into pairs of two elements.\n",
        "2. Find the minimum and maximum element in each pair. We can do this in constant time by comparing the two elements.\n",
        "3. Initialize two variables to store the minimum and maximum element seen so far.\n",
        "4. Iterate over the pairs of two elements and update the minimum and maximum variables accordingly.\n",
        "5. If the length of the input list is odd, the last element will be compared twice, once in a pair and once with the minimum and maximum variables. We need to handle this case separately by comparing the last element with the minimum and maximum variables.\n",
        "6. Return the tuple of the minimum and maximum variables."
      ],
      "metadata": {
        "id": "MFkrvYx7xHEL"
      }
    },
    {
      "cell_type": "code",
      "source": [
        "# Write your code here\n",
        "def find_max_min(nums):\n",
        "  n=len(nums)\n",
        "  if n==0:\n",
        "    return None\n",
        "  elif n%2==0:\n",
        "    minimum=min(nums[0],nums[1])\n",
        "    maximum=max(nums[0],nums[1])\n",
        "    indx=2\n",
        "  else:\n",
        "    minimum=nums[0]\n",
        "    maximum=nums[0]\n",
        "    indx=1\n",
        "\n",
        "  for i in range(indx,n,2):\n",
        "    if nums[i]<nums[i+1]:\n",
        "      minimum=min(minimum,nums[i])\n",
        "      maximum=max(maximum,nums[i+1])\n",
        "    else:\n",
        "      maximum=max(maximum,nums[i])\n",
        "      minimum=min(minimum,nums[i+1])\n",
        "\n",
        "  return(minimum,maximum)\n",
        "\n",
        "\n",
        "nums = [12, 3, 1, 2, -6, 5, -8, 6]\n",
        "min_max = find_max_min(nums)\n",
        "print(min_max)\n"
      ],
      "metadata": {
        "id": "Xgx77IIiYYiQ",
        "colab": {
          "base_uri": "https://localhost:8080/"
        },
        "outputId": "410613c5-7fb4-4c6d-af58-1d7e63c1a6a9"
      },
      "execution_count": null,
      "outputs": [
        {
          "output_type": "stream",
          "name": "stdout",
          "text": [
            "(-8, 12)\n"
          ]
        }
      ]
    },
    {
      "cell_type": "markdown",
      "source": [
        "## **Activity 3:**"
      ],
      "metadata": {
        "id": "7qA8amrU1QB7"
      }
    },
    {
      "cell_type": "markdown",
      "source": [
        "### **Task: Find Second Highest Number**\n",
        "\n",
        "You are given a list of integers. Write a function to find the second highest number in the list. If there is no second highest number, return None.\n",
        "\n",
        "**Example:**\n",
        "\n",
        "**Input:**\n",
        "```\n",
        "[12, 3, 1, 2, -6, 5, -8, 6]\n",
        "```\n",
        "**Output:**\n",
        "```\n",
        "6\n",
        "```\n",
        "**Solution:**\n",
        "\n",
        "A brute force solution is to sort the list in descending order and return the second element.\n",
        "```\n",
        "def find_second_highest(nums):\n",
        "    nums.sort(reverse=True)\n",
        "    if len(nums) > 1:\n",
        "        return nums[1]\n",
        "    else:\n",
        "        return None\n",
        "```\n",
        "The time complexity of this solution is O(n log n), where n is the length of the input list. The space complexity is O(1).\n",
        "\n",
        "**Your Task is to optimize the solution and here are some steps to do it:**\n",
        "\n",
        "**Optimized Solution Approach:**\n",
        "\n",
        "1. Initialize two variables, highest and second_highest, to None.\n",
        "2. Iterate over the input list. For each element, check if it is greater than the current highest element. If it is, update the highest and second_highest variables accordingly. If it is not, check if it is greater than the current second_highest element. If it is, update the second_highest variable accordingly.\n",
        "3. Return the second_highest variable."
      ],
      "metadata": {
        "id": "cWPxTrQ7x9gk"
      }
    },
    {
      "cell_type": "code",
      "source": [
        "# Write your code here\n",
        "def find_second_highest(nums):\n",
        "    highest = None\n",
        "    second_highest = None\n",
        "\n",
        "    for num in nums:\n",
        "        if highest is None:\n",
        "            highest = num\n",
        "        elif num > highest:\n",
        "            second_highest = highest\n",
        "            highest = num\n",
        "        elif second_highest is None:\n",
        "            second_highest = num\n",
        "        elif num > second_highest:\n",
        "            second_highest = num\n",
        "    return second_highest\n",
        "\n",
        "nums = [3, 5, 2, 7, 1, 9, 8]\n",
        "result = find_second_highest(nums)\n",
        "print(result)\n"
      ],
      "metadata": {
        "id": "js5mZ3xCYeey",
        "colab": {
          "base_uri": "https://localhost:8080/"
        },
        "outputId": "3cfcf035-374d-4774-aaf3-bcfb7ecb72fa"
      },
      "execution_count": null,
      "outputs": [
        {
          "output_type": "stream",
          "name": "stdout",
          "text": [
            "8\n"
          ]
        }
      ]
    },
    {
      "cell_type": "code",
      "source": [],
      "metadata": {
        "id": "3MwhBK_awikL"
      },
      "execution_count": null,
      "outputs": []
    }
  ]
}